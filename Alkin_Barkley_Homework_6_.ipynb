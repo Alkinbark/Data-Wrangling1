{
  "nbformat": 4,
  "nbformat_minor": 0,
  "metadata": {
    "colab": {
      "provenance": [],
      "authorship_tag": "ABX9TyNRt29bWJBftsejsUyxOyBO",
      "include_colab_link": true
    },
    "kernelspec": {
      "name": "python3",
      "display_name": "Python 3"
    },
    "language_info": {
      "name": "python"
    }
  },
  "cells": [
    {
      "cell_type": "markdown",
      "metadata": {
        "id": "view-in-github",
        "colab_type": "text"
      },
      "source": [
        "<a href=\"https://colab.research.google.com/github/Alkinbark/Data-Wrangling1/blob/main/Alkin_Barkley_Homework_6_.ipynb\" target=\"_parent\"><img src=\"https://colab.research.google.com/assets/colab-badge.svg\" alt=\"Open In Colab\"/></a>"
      ]
    },
    {
      "cell_type": "code",
      "execution_count": null,
      "metadata": {
        "id": "kaU9rxYveBtU"
      },
      "outputs": [],
      "source": [
        "#import python packages\n",
        "import numpy as np\n",
        "import seaborn as sns\n",
        "import matplotlib.pyplot as plt\n"
      ]
    },
    {
      "cell_type": "code",
      "source": [
        "#exmaple dataset with outliers\n",
        "data_with_outliers = np.array([1, 2, 3, 4, 5, 6, 7, 100, 200, 250, 1000])\n",
        "\n",
        "#Define a threshold for outlier removal\n",
        "threshold = 100\n",
        "\n",
        "#Remove outliers\n",
        "cleaned_data = data_with_outliers[data_with_outliers < threshold]"
      ],
      "metadata": {
        "id": "7qOSHT7beU83"
      },
      "execution_count": null,
      "outputs": []
    },
    {
      "cell_type": "code",
      "source": [
        "# Visualize data before and after outlier removal\n",
        "plt.figure(figsize=(10, 5))\n",
        "\n",
        "# Before outlier removal\n",
        "plt.subplot(1, 2, 1)\n",
        "sns.boxplot(y=data_with_outliers)\n",
        "plt.title('Before Removing Outliers')\n",
        "\n",
        "#After outlier removal\n",
        "plt.subplot(1, 2, 1)\n",
        "sns.boxplot(y=cleaned_data)\n",
        "plt.title('After Removing Outliers')\n",
        "\n",
        "plt.tight_layout()\n",
        "plt.show()"
      ],
      "metadata": {
        "colab": {
          "base_uri": "https://localhost:8080/",
          "height": 507
        },
        "id": "yFc3Koroe1I9",
        "outputId": "3b935688-6161-45e1-d264-140c46184751"
      },
      "execution_count": null,
      "outputs": [
        {
          "output_type": "display_data",
          "data": {
            "text/plain": [
              "<Figure size 1000x500 with 1 Axes>"
            ],
            "image/png": "[encoded data removed]"
          },
          "metadata": {}
        }
      ]
    },
    {
      "cell_type": "code",
      "source": [
        "print(\"Original data:\", data_with_outliers)\n",
        "print(\"Cleaned data:\", cleaned_data)"
      ],
      "metadata": {
        "colab": {
          "base_uri": "https://localhost:8080/"
        },
        "id": "GNudtMFXfkAx",
        "outputId": "42d2cf9a-e8df-4cd6-dfef-740a902bc3fe"
      },
      "execution_count": null,
      "outputs": [
        {
          "output_type": "stream",
          "name": "stdout",
          "text": [
            "Original data: [   1    2    3    4    5    6    7  100  200  250 1000]\n",
            "Cleaned data: [1 2 3 4 5 6 7]\n"
          ]
        }
      ]
    }
  ]
}